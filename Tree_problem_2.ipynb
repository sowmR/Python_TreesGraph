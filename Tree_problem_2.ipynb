{
  "nbformat": 4,
  "nbformat_minor": 0,
  "metadata": {
    "colab": {
      "name": "Untitled2.ipynb",
      "provenance": [],
      "collapsed_sections": [],
      "authorship_tag": "ABX9TyNapDcsIxhODuYZi/JfiStO",
      "include_colab_link": true
    },
    "kernelspec": {
      "name": "python3",
      "display_name": "Python 3"
    },
    "language_info": {
      "name": "python"
    }
  },
  "cells": [
    {
      "cell_type": "markdown",
      "metadata": {
        "id": "view-in-github",
        "colab_type": "text"
      },
      "source": [
        "<a href=\"https://colab.research.google.com/github/sowmR/Python_TreesGraph/blob/main/Tree_problem_2.ipynb\" target=\"_parent\"><img src=\"https://colab.research.google.com/assets/colab-badge.svg\" alt=\"Open In Colab\"/></a>"
      ]
    },
    {
      "cell_type": "markdown",
      "source": [
        "# Trees: Level order traversal of binary tree\n",
        "\n",
        "Given the root of a binary tree, display the node values at each level. Node values for all levels should be displayed on separate lines"
      ],
      "metadata": {
        "id": "oo4UkOFtD-6i"
      }
    },
    {
      "cell_type": "code",
      "execution_count": 18,
      "metadata": {
        "colab": {
          "base_uri": "https://localhost:8080/"
        },
        "id": "48XG727OD8uq",
        "outputId": "06afaaa0-f5be-49b5-b924-dace26f39ad5"
      },
      "outputs": [
        {
          "output_type": "stream",
          "name": "stdout",
          "text": [
            "[100]\n",
            "[50, 200]\n",
            "[25, 75, 125, 350]\n",
            "[30, 60]\n"
          ]
        }
      ],
      "source": [
        "from collections import Counter\n",
        "# Binary tree \n",
        "class TreeNode:\n",
        "    def __init__(self, value):\n",
        "        self.value = value\n",
        "        self.left = None\n",
        "        self.right = None \n",
        "\n",
        "class BinarySearchTree:\n",
        "    def __init__(self):\n",
        "        self.root = None\n",
        "        \n",
        "    def insert(self, value):\n",
        "        newNode = TreeNode(value)\n",
        "        if self.root == None:\n",
        "            self.root = newNode\n",
        "        else:\n",
        "            tmp = self.root\n",
        "            while True:\n",
        "                if tmp.value == newNode.value:\n",
        "                    return False\n",
        "                if newNode.value < tmp.value:\n",
        "                    if tmp.left == None:\n",
        "                        tmp.left = newNode\n",
        "                        return True\n",
        "                    tmp = tmp.left\n",
        "                else:\n",
        "                    if tmp.right == None:\n",
        "                        tmp.right = newNode\n",
        "                        return True\n",
        "                    tmp = tmp.right\n",
        "    \n",
        "\n",
        "    def DFS_LevelOrderTraversal(self):\n",
        "        results = []\n",
        "        level = []\n",
        "        queue = []\n",
        "        if self.root is not None:\n",
        "          cur_node = self.root\n",
        "          queue.append(self.root)\n",
        "          tmpQue = []\n",
        "          while len(queue)>0:\n",
        "            cur_node = queue.pop(0)\n",
        "            level.append(cur_node.value)\n",
        "            if cur_node.left is not None:\n",
        "                tmpQue.append(cur_node.left)\n",
        "            if cur_node.right is not None:\n",
        "                tmpQue.append(cur_node.right)\n",
        "            # print(len(queue), len(tmpQue))\n",
        "            if len(queue)==0 and len(tmpQue)>0:\n",
        "              results.append(level)\n",
        "              queue = tmpQue\n",
        "              level = []\n",
        "              tmpQue = []\n",
        "          if len(level)>0:\n",
        "            results.append(level)\n",
        "        return results          \n",
        "        \n",
        "        \n",
        "\n",
        "\n",
        "\n",
        "\n",
        "data = [100,50,200,25,75,125,350,30,60]\n",
        "Tree = BinarySearchTree()\n",
        "for d in data:\n",
        "  Tree.insert(d)\n",
        "results = Tree.DFS_LevelOrderTraversal()\n",
        "for res in results:\n",
        "  print(res)"
      ]
    },
    {
      "cell_type": "code",
      "source": [
        ""
      ],
      "metadata": {
        "id": "mZwJ1AfhTgYO"
      },
      "execution_count": null,
      "outputs": []
    }
  ]
}