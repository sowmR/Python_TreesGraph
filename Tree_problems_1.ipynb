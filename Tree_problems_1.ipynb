{
  "nbformat": 4,
  "nbformat_minor": 0,
  "metadata": {
    "colab": {
      "name": "Untitled2.ipynb",
      "provenance": [],
      "collapsed_sections": [],
      "authorship_tag": "ABX9TyPcvWD/x4dmVasC02QFD7jG",
      "include_colab_link": true
    },
    "kernelspec": {
      "name": "python3",
      "display_name": "Python 3"
    },
    "language_info": {
      "name": "python"
    }
  },
  "cells": [
    {
      "cell_type": "markdown",
      "metadata": {
        "id": "view-in-github",
        "colab_type": "text"
      },
      "source": [
        "<a href=\"https://colab.research.google.com/github/sowmR/Python_TreesGraph/blob/main/Tree_problems_1.ipynb\" target=\"_parent\"><img src=\"https://colab.research.google.com/assets/colab-badge.svg\" alt=\"Open In Colab\"/></a>"
      ]
    },
    {
      "cell_type": "markdown",
      "source": [
        "# Trees: convert binary tree to double-linked list\n",
        "\n",
        "Convert a binary tree to a doubly linked list so that the order of the doubly linked list is the same as an in-order traversal of the binary tree.\n",
        "\n",
        "After conversion, the left pointer of the node should be pointing to the previous node in the doubly linked list, and the right pointer should be pointing to the next node in the doubly linked list\n"
      ],
      "metadata": {
        "id": "oo4UkOFtD-6i"
      }
    },
    {
      "cell_type": "code",
      "execution_count": 3,
      "metadata": {
        "id": "48XG727OD8uq"
      },
      "outputs": [],
      "source": [
        "# create Binary tree first\n",
        "\n",
        "class TreeNode:\n",
        "    def __init__(self, value):\n",
        "        self.value = value\n",
        "        self.left = None\n",
        "        self.right = None \n",
        "\n",
        "class BinarySearchTree:\n",
        "    def __init__(self):\n",
        "        self.root = None\n",
        "        \n",
        "    def insert(self, value):\n",
        "        newNode = TreeNode(value)\n",
        "        if self.root == None:\n",
        "            self.root = newNode\n",
        "        else:\n",
        "            tmp = self.root\n",
        "            while True:\n",
        "                if tmp.value == newNode.value:\n",
        "                    return False\n",
        "                if newNode.value < tmp.value:\n",
        "                    if tmp.left == None:\n",
        "                        tmp.left = newNode\n",
        "                        return True\n",
        "                    tmp = tmp.left\n",
        "                else:\n",
        "                    if tmp.right == None:\n",
        "                        tmp.right = newNode\n",
        "                        return True\n",
        "                    tmp = tmp.right\n",
        "    \n",
        "    def DFS_inorder(self):\n",
        "        results = []\n",
        "        def traverse(curr_node):\n",
        "          if curr_node.left is not None:\n",
        "            traverse(curr_node.left)\n",
        "          results.append(curr_node.value)\n",
        "          if curr_node.right is not None:\n",
        "            traverse(curr_node.right)\n",
        "        traverse(self.root)\n",
        "        return results\n",
        "\n",
        "class LLNode:\n",
        "  def __init__(self, value):\n",
        "      self.value = value\n",
        "      self.prev = None\n",
        "      self.next = None\n",
        "\n",
        "class DoubleLL:\n",
        "  def __init__(self,value=None):\n",
        "    self.head = None\n",
        "    self.tail = None\n",
        "    self.length = 0\n",
        "    if value is not None:\n",
        "      newNode = LLNode(value)\n",
        "      self.head = newNode\n",
        "      self.tail = newNode\n",
        "      self.length+=1\n",
        "      \n",
        "  def insert(self,value):\n"
      ]
    }
  ]
}